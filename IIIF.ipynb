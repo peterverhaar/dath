{
 "cells": [
  {
   "cell_type": "markdown",
   "id": "d8902c02",
   "metadata": {},
   "source": [
    "## Exercise 1.1.\n",
    "\n",
    "The images below are upside down and shown in black and white. Can you reconstruct the original image?\n",
    "\n",
    "* [https://iiif.universiteitleiden.nl/iiif/2/hdl%3A1887.1%2Fitem%3A230532/815,143,983,758/400,400/180/gray.jpg](https://iiif.universiteitleiden.nl/iiif/2/hdl%3A1887.1%2Fitem%3A230532/815,143,983,758/400,400/180/gray.jpg)\n",
    "* [https://iiif.universiteitleiden.nl/iiif/2/hdl%3A1887.1%2Fitem%3A855659/1876,2840,292,300/600,600/180/gray.jpg](https://iiif.universiteitleiden.nl/iiif/2/hdl%3A1887.1%2Fitem%3A855659/1876,2840,292,300/600,600/180/gray.jpg)\n",
    "* [https://media.nga.gov/iiif/public/objects/1/1/3/8/1138-primary-0-nativeres.ptif/8306,13278,4600,4979/400,/180/bitonal.jpg](https://media.nga.gov/iiif/public/objects/1/1/3/8/1138-primary-0-nativeres.ptif/8306,13278,4600,4979/400,/180/bitonal.jpg)\n",
    "\n",
    "\n",
    "To do this, you need to change some of the parameters that have been defined in the [IIIF Image API](https://iiif.io/api/image/3.0/#4-image-requests). \n",
    "\n",
    "```\n",
    "{scheme}://{server}{/prefix}/{identifier}/{region}/{size}/{rotation}/{quality}.{format}\n",
    "```\n",
    " \n",
    "* **region**: Value 'full' or four numbers. In the latter case, the first two numbers define the starting point and the last two number specify the width and the height.\n",
    "* **size**: Value 'full or 'two numbers which specify the width and the height. The second number can be omitted.\n",
    "* **rotation**: Number in between 0 or 359.\n",
    "* **format**: Values 'default','gray' or 'bitonal', followed by extensons 'jpg', 'png' or 'gif'.\n",
    "\n",
    "You can adjust the parameters for the first URL using the code cell below. Try to adjust the parameters for the second URL in the address bar of a web browser."
   ]
  },
  {
   "cell_type": "code",
   "execution_count": 1,
   "id": "8640ff66",
   "metadata": {},
   "outputs": [
    {
     "name": "stdout",
     "output_type": "stream",
     "text": [
      "https://iiif.universiteitleiden.nl/iiif/2/hdl%3A1887.1%2Fitem%3A230532/815,143,983,758/400,400/180/gray.jpg\n"
     ]
    }
   ],
   "source": [
    "region = '815,143,983,758'\n",
    "size = '400,400'\n",
    "rotation = 180\n",
    "image_format = 'gray'\n",
    "\n",
    "url = f'https://iiif.universiteitleiden.nl/iiif/2/hdl%3A1887.1%2Fitem%3A230532/{region}/{size}/{rotation}/{image_format}.jpg'\n",
    "\n",
    "print(url)"
   ]
  },
  {
   "cell_type": "code",
   "execution_count": 2,
   "id": "b95eb7e7",
   "metadata": {},
   "outputs": [
    {
     "data": {
      "text/html": [
       "<img src=\"https://iiif.universiteitleiden.nl/iiif/2/hdl%3A1887.1%2Fitem%3A230532/815,143,983,758/400,400/180/gray.jpg\" />"
      ],
      "text/plain": [
       "<IPython.core.display.HTML object>"
      ]
     },
     "execution_count": 2,
     "metadata": {},
     "output_type": "execute_result"
    }
   ],
   "source": [
    "from IPython.core.display import HTML\n",
    "HTML( f'<img src=\"{url}\" />')"
   ]
  },
  {
   "cell_type": "markdown",
   "id": "f7623d0f",
   "metadata": {},
   "source": [
    "## Exercise 1.2.\n",
    "\n",
    "Copy one of the URLs below. The URLs opens an image, made available according to the IIIF Image API. \n",
    "\n",
    "* https://media.nga.gov/iiif/public/objects/4/6/3/0/3/46303-primary-0-nativeres.ptif/full/full/0/default.jpg\n",
    "* https://media.nga.gov/iiif/public/objects/1/1/3/8/1138-primary-0-nativeres.ptif/full/full/0/default.jpg\n",
    "* https://iiif.universiteitleiden.nl/iiif/2/hdl%3A1887.1%2Fitem%3A230532/full/full/0/default.jpg\n",
    "* https://iiif.universiteitleiden.nl/iiif/2/hdl%3A1887.1%2Fitem%3A879759/full/full/0/default.jpg\n",
    "* https://iiif.universiteitleiden.nl/iiif/2/hdl%3A1887.1%2Fitem%3A1625068/full/pct:50/0/default.jpg\n",
    "* https://iiif.universiteitleiden.nl/iiif/2/hdl%3A1887.1%2Fitem%3A879759/full/full/0/default.jpg\n",
    "* https://iiif.universiteitleiden.nl/iiif/2/hdl%3A1887.1%2Fitem%3A2533087/full/full/0/default.jpg\n",
    "* https://iiif.universiteitleiden.nl/iiif/2/hdl%3A1887.1%2Fitem%3A855659/full/full/0/default.jpg\n",
    "* https://iiif.universiteitleiden.nl/iiif/2/hdl%3A1887.1%2Fitem%3A2533094/full/full/0/default.jpg\n",
    "* https://iiif.universiteitleiden.nl/iiif/2/hdl%3A1887.1%2Fitem%3A127217/full/full/0/default.jpg\n",
    "\n",
    "Next, use an [IIIF Cropping Tool](https://ncsu-libraries.github.io/iiif-crop-tool/) to make a cutout from the image. \n",
    "\n",
    "https://ncsu-libraries.github.io/iiif-crop-tool/\n",
    "\n",
    "Can you also manage to resize the cutout to an image sized 300x300?"
   ]
  },
  {
   "cell_type": "markdown",
   "id": "4e812b67",
   "metadata": {},
   "source": [
    "## Exercise 1.3. \n",
    "\n",
    "Open the website of the [Vatican Library](https://digi.vatlib.it) and search for the manuscript with the shelfmark **Reg.lat.713**. View the manuscript, click on the \"information button\" and copy the \"IIIF manifest URI\" to a file.  \n",
    "\n",
    "Next, open Leiden University's [Digital Collections](https://digitalcollections.universiteitleiden.nl/) website and search for the manuscript with shelfmark ***VLQ5***. Open the \"Advanced Viewer\". \n",
    "\n",
    "* In the advanced viewer, click on \"Change Layout\" in the upper right corner.\n",
    "* Choose a \"1 x 2\" grid.\n",
    "* In the panel on the right-hand side, click on \"Add Item\"\n",
    "* After \"Add new object from URL:\", copy and paste the IIIF manifest URI of **Reg.lat.713**, which you had copied earlier. \n",
    "\n",
    "You should now be able to study the two manuscripts side by side. \n",
    "\n",
    "The two URIs you need for this exercises are as follows:\n",
    "\n",
    "* https://digitalcollections.universiteitleiden.nl/iiif_manifest/item:1520736/manifest\n",
    "* https://digi.vatlib.it/iiif/MSS_Reg.lat.713/manifest.json\n",
    "\n",
    "You can also try to view these two manuscripts side by side on the [Mirador website](https://mirador-dev.netlify.app/__tests__/integration/mirador/). \n"
   ]
  },
  {
   "cell_type": "markdown",
   "id": "19f2f178",
   "metadata": {},
   "source": [
    "## Exercise 1.4. \n",
    "\n",
    "Visit Leiden University's Digital Collections website, and search for [a digitised manuscript](https://digitalcollections.universiteitleiden.nl/view/collection/ublmanuscripts). For example, search for **BPL 14 A** or **Or. 1551**. Once you have found a manuscript, copy the URI of the IIIF manifest, and paste it into the code below, as the value of the variable `iiif_manifest`. \n",
    "\n",
    "When you run the code, you can view all the images that are described in the manifest. \n",
    "\n"
   ]
  },
  {
   "cell_type": "code",
   "execution_count": 5,
   "id": "980ce922",
   "metadata": {},
   "outputs": [
    {
     "data": {
      "text/html": [
       "<img src=\"<p><a target=\"_blank\" href=\"https://iiif.universiteitleiden.nl/iiif/2/hdl:1887.1%252Fitem:291321/full/350,/0/default.jpg\" />band1</p><img src=\"https://iiif.universiteitleiden.nl/iiif/2/hdl:1887.1%252Fitem:291321/full/350,/0/default.jpg\" /><br/><p><a target=\"_blank\" href=\"https://iiif.universiteitleiden.nl/iiif/2/hdl:1887.1%252Fitem:291353/full/350,/0/default.jpg\" />band2</p><img src=\"https://iiif.universiteitleiden.nl/iiif/2/hdl:1887.1%252Fitem:291353/full/350,/0/default.jpg\" /><br/><p><a target=\"_blank\" href=\"https://iiif.universiteitleiden.nl/iiif/2/hdl:1887.1%252Fitem:291289/full/350,/0/default.jpg\" />band3</p><img src=\"https://iiif.universiteitleiden.nl/iiif/2/hdl:1887.1%252Fitem:291289/full/350,/0/default.jpg\" /><br/><p><a target=\"_blank\" href=\"https://iiif.universiteitleiden.nl/iiif/2/hdl:1887.1%252Fitem:291265/full/350,/0/default.jpg\" />band4</p><img src=\"https://iiif.universiteitleiden.nl/iiif/2/hdl:1887.1%252Fitem:291265/full/350,/0/default.jpg\" /><br/><p><a target=\"_blank\" href=\"https://iiif.universiteitleiden.nl/iiif/2/hdl:1887.1%252Fitem:291323/full/350,/0/default.jpg\" />opening01</p><img src=\"https://iiif.universiteitleiden.nl/iiif/2/hdl:1887.1%252Fitem:291323/full/350,/0/default.jpg\" /><br/><p><a target=\"_blank\" href=\"https://iiif.universiteitleiden.nl/iiif/2/hdl:1887.1%252Fitem:291307/full/350,/0/default.jpg\" />opening02-(incl-f001a)</p><img src=\"https://iiif.universiteitleiden.nl/iiif/2/hdl:1887.1%252Fitem:291307/full/350,/0/default.jpg\" /><br/><p><a target=\"_blank\" href=\"https://iiif.universiteitleiden.nl/iiif/2/hdl:1887.1%252Fitem:291352/full/350,/0/default.jpg\" />opening03-(incl-f114b)</p><img src=\"https://iiif.universiteitleiden.nl/iiif/2/hdl:1887.1%252Fitem:291352/full/350,/0/default.jpg\" /><br/><p><a target=\"_blank\" href=\"https://iiif.universiteitleiden.nl/iiif/2/hdl:1887.1%252Fitem:291351/full/350,/0/default.jpg\" />opening04</p><img src=\"https://iiif.universiteitleiden.nl/iiif/2/hdl:1887.1%252Fitem:291351/full/350,/0/default.jpg\" /><br/><p><a target=\"_blank\" href=\"https://iiif.universiteitleiden.nl/iiif/2/hdl:1887.1%252Fitem:291344/full/350,/0/default.jpg\" />f001b-002a</p><img src=\"https://iiif.universiteitleiden.nl/iiif/2/hdl:1887.1%252Fitem:291344/full/350,/0/default.jpg\" /><br/><p><a target=\"_blank\" href=\"https://iiif.universiteitleiden.nl/iiif/2/hdl:1887.1%252Fitem:291338/full/350,/0/default.jpg\" />f002b-003a</p><img src=\"https://iiif.universiteitleiden.nl/iiif/2/hdl:1887.1%252Fitem:291338/full/350,/0/default.jpg\" /><br/><p><a target=\"_blank\" href=\"https://iiif.universiteitleiden.nl/iiif/2/hdl:1887.1%252Fitem:291347/full/350,/0/default.jpg\" />f003b-004a</p><img src=\"https://iiif.universiteitleiden.nl/iiif/2/hdl:1887.1%252Fitem:291347/full/350,/0/default.jpg\" /><br/><p><a target=\"_blank\" href=\"https://iiif.universiteitleiden.nl/iiif/2/hdl:1887.1%252Fitem:291283/full/350,/0/default.jpg\" />f004b-005a</p><img src=\"https://iiif.universiteitleiden.nl/iiif/2/hdl:1887.1%252Fitem:291283/full/350,/0/default.jpg\" /><br/><p><a target=\"_blank\" href=\"https://iiif.universiteitleiden.nl/iiif/2/hdl:1887.1%252Fitem:291267/full/350,/0/default.jpg\" />f005b-006a</p><img src=\"https://iiif.universiteitleiden.nl/iiif/2/hdl:1887.1%252Fitem:291267/full/350,/0/default.jpg\" /><br/><p><a target=\"_blank\" href=\"https://iiif.universiteitleiden.nl/iiif/2/hdl:1887.1%252Fitem:291331/full/350,/0/default.jpg\" />f006b-007a</p><img src=\"https://iiif.universiteitleiden.nl/iiif/2/hdl:1887.1%252Fitem:291331/full/350,/0/default.jpg\" /><br/><p><a target=\"_blank\" href=\"https://iiif.universiteitleiden.nl/iiif/2/hdl:1887.1%252Fitem:291291/full/350,/0/default.jpg\" />f007b-008a</p><img src=\"https://iiif.universiteitleiden.nl/iiif/2/hdl:1887.1%252Fitem:291291/full/350,/0/default.jpg\" /><br/><p><a target=\"_blank\" href=\"https://iiif.universiteitleiden.nl/iiif/2/hdl:1887.1%252Fitem:291380/full/350,/0/default.jpg\" />f008b-009a</p><img src=\"https://iiif.universiteitleiden.nl/iiif/2/hdl:1887.1%252Fitem:291380/full/350,/0/default.jpg\" /><br/><p><a target=\"_blank\" href=\"https://iiif.universiteitleiden.nl/iiif/2/hdl:1887.1%252Fitem:291312/full/350,/0/default.jpg\" />f009b-010a</p><img src=\"https://iiif.universiteitleiden.nl/iiif/2/hdl:1887.1%252Fitem:291312/full/350,/0/default.jpg\" /><br/><p><a target=\"_blank\" href=\"https://iiif.universiteitleiden.nl/iiif/2/hdl:1887.1%252Fitem:291348/full/350,/0/default.jpg\" />f010b-011a</p><img src=\"https://iiif.universiteitleiden.nl/iiif/2/hdl:1887.1%252Fitem:291348/full/350,/0/default.jpg\" /><br/><p><a target=\"_blank\" href=\"https://iiif.universiteitleiden.nl/iiif/2/hdl:1887.1%252Fitem:291381/full/350,/0/default.jpg\" />f011b-012a</p><img src=\"https://iiif.universiteitleiden.nl/iiif/2/hdl:1887.1%252Fitem:291381/full/350,/0/default.jpg\" /><br/><p><a target=\"_blank\" href=\"https://iiif.universiteitleiden.nl/iiif/2/hdl:1887.1%252Fitem:291303/full/350,/0/default.jpg\" />f012b-013a</p><img src=\"https://iiif.universiteitleiden.nl/iiif/2/hdl:1887.1%252Fitem:291303/full/350,/0/default.jpg\" /><br/><p><a target=\"_blank\" href=\"https://iiif.universiteitleiden.nl/iiif/2/hdl:1887.1%252Fitem:291279/full/350,/0/default.jpg\" />f013b-014a</p><img src=\"https://iiif.universiteitleiden.nl/iiif/2/hdl:1887.1%252Fitem:291279/full/350,/0/default.jpg\" /><br/><p><a target=\"_blank\" href=\"https://iiif.universiteitleiden.nl/iiif/2/hdl:1887.1%252Fitem:291370/full/350,/0/default.jpg\" />f014b-015a</p><img src=\"https://iiif.universiteitleiden.nl/iiif/2/hdl:1887.1%252Fitem:291370/full/350,/0/default.jpg\" /><br/><p><a target=\"_blank\" href=\"https://iiif.universiteitleiden.nl/iiif/2/hdl:1887.1%252Fitem:291314/full/350,/0/default.jpg\" />f015b-016a</p><img src=\"https://iiif.universiteitleiden.nl/iiif/2/hdl:1887.1%252Fitem:291314/full/350,/0/default.jpg\" /><br/><p><a target=\"_blank\" href=\"https://iiif.universiteitleiden.nl/iiif/2/hdl:1887.1%252Fitem:291317/full/350,/0/default.jpg\" />f016b-017a</p><img src=\"https://iiif.universiteitleiden.nl/iiif/2/hdl:1887.1%252Fitem:291317/full/350,/0/default.jpg\" /><br/><p><a target=\"_blank\" href=\"https://iiif.universiteitleiden.nl/iiif/2/hdl:1887.1%252Fitem:291269/full/350,/0/default.jpg\" />f017b-018a</p><img src=\"https://iiif.universiteitleiden.nl/iiif/2/hdl:1887.1%252Fitem:291269/full/350,/0/default.jpg\" /><br/><p><a target=\"_blank\" href=\"https://iiif.universiteitleiden.nl/iiif/2/hdl:1887.1%252Fitem:291273/full/350,/0/default.jpg\" />f018b-019a</p><img src=\"https://iiif.universiteitleiden.nl/iiif/2/hdl:1887.1%252Fitem:291273/full/350,/0/default.jpg\" /><br/><p><a target=\"_blank\" href=\"https://iiif.universiteitleiden.nl/iiif/2/hdl:1887.1%252Fitem:291334/full/350,/0/default.jpg\" />f019b-020a</p><img src=\"https://iiif.universiteitleiden.nl/iiif/2/hdl:1887.1%252Fitem:291334/full/350,/0/default.jpg\" /><br/><p><a target=\"_blank\" href=\"https://iiif.universiteitleiden.nl/iiif/2/hdl:1887.1%252Fitem:291366/full/350,/0/default.jpg\" />f020b-021a</p><img src=\"https://iiif.universiteitleiden.nl/iiif/2/hdl:1887.1%252Fitem:291366/full/350,/0/default.jpg\" /><br/><p><a target=\"_blank\" href=\"https://iiif.universiteitleiden.nl/iiif/2/hdl:1887.1%252Fitem:291371/full/350,/0/default.jpg\" />f021b-022a</p><img src=\"https://iiif.universiteitleiden.nl/iiif/2/hdl:1887.1%252Fitem:291371/full/350,/0/default.jpg\" /><br/><p><a target=\"_blank\" href=\"https://iiif.universiteitleiden.nl/iiif/2/hdl:1887.1%252Fitem:291294/full/350,/0/default.jpg\" />f022b-023a</p><img src=\"https://iiif.universiteitleiden.nl/iiif/2/hdl:1887.1%252Fitem:291294/full/350,/0/default.jpg\" /><br/><p><a target=\"_blank\" href=\"https://iiif.universiteitleiden.nl/iiif/2/hdl:1887.1%252Fitem:291316/full/350,/0/default.jpg\" />f023b-024a</p><img src=\"https://iiif.universiteitleiden.nl/iiif/2/hdl:1887.1%252Fitem:291316/full/350,/0/default.jpg\" /><br/><p><a target=\"_blank\" href=\"https://iiif.universiteitleiden.nl/iiif/2/hdl:1887.1%252Fitem:291341/full/350,/0/default.jpg\" />f024b-025a</p><img src=\"https://iiif.universiteitleiden.nl/iiif/2/hdl:1887.1%252Fitem:291341/full/350,/0/default.jpg\" /><br/><p><a target=\"_blank\" href=\"https://iiif.universiteitleiden.nl/iiif/2/hdl:1887.1%252Fitem:291324/full/350,/0/default.jpg\" />f025b-026a</p><img src=\"https://iiif.universiteitleiden.nl/iiif/2/hdl:1887.1%252Fitem:291324/full/350,/0/default.jpg\" /><br/><p><a target=\"_blank\" href=\"https://iiif.universiteitleiden.nl/iiif/2/hdl:1887.1%252Fitem:291358/full/350,/0/default.jpg\" />f026b-027a</p><img src=\"https://iiif.universiteitleiden.nl/iiif/2/hdl:1887.1%252Fitem:291358/full/350,/0/default.jpg\" /><br/><p><a target=\"_blank\" href=\"https://iiif.universiteitleiden.nl/iiif/2/hdl:1887.1%252Fitem:291266/full/350,/0/default.jpg\" />f027b-028a</p><img src=\"https://iiif.universiteitleiden.nl/iiif/2/hdl:1887.1%252Fitem:291266/full/350,/0/default.jpg\" /><br/><p><a target=\"_blank\" href=\"https://iiif.universiteitleiden.nl/iiif/2/hdl:1887.1%252Fitem:291378/full/350,/0/default.jpg\" />f028b-029a</p><img src=\"https://iiif.universiteitleiden.nl/iiif/2/hdl:1887.1%252Fitem:291378/full/350,/0/default.jpg\" /><br/><p><a target=\"_blank\" href=\"https://iiif.universiteitleiden.nl/iiif/2/hdl:1887.1%252Fitem:291275/full/350,/0/default.jpg\" />f029b-030a</p><img src=\"https://iiif.universiteitleiden.nl/iiif/2/hdl:1887.1%252Fitem:291275/full/350,/0/default.jpg\" /><br/><p><a target=\"_blank\" href=\"https://iiif.universiteitleiden.nl/iiif/2/hdl:1887.1%252Fitem:291304/full/350,/0/default.jpg\" />f030b-031a</p><img src=\"https://iiif.universiteitleiden.nl/iiif/2/hdl:1887.1%252Fitem:291304/full/350,/0/default.jpg\" /><br/><p><a target=\"_blank\" href=\"https://iiif.universiteitleiden.nl/iiif/2/hdl:1887.1%252Fitem:291356/full/350,/0/default.jpg\" />f031b-032a</p><img src=\"https://iiif.universiteitleiden.nl/iiif/2/hdl:1887.1%252Fitem:291356/full/350,/0/default.jpg\" /><br/><p><a target=\"_blank\" href=\"https://iiif.universiteitleiden.nl/iiif/2/hdl:1887.1%252Fitem:291361/full/350,/0/default.jpg\" />f032b-033a</p><img src=\"https://iiif.universiteitleiden.nl/iiif/2/hdl:1887.1%252Fitem:291361/full/350,/0/default.jpg\" /><br/><p><a target=\"_blank\" href=\"https://iiif.universiteitleiden.nl/iiif/2/hdl:1887.1%252Fitem:291286/full/350,/0/default.jpg\" />f033b-034a</p><img src=\"https://iiif.universiteitleiden.nl/iiif/2/hdl:1887.1%252Fitem:291286/full/350,/0/default.jpg\" /><br/><p><a target=\"_blank\" href=\"https://iiif.universiteitleiden.nl/iiif/2/hdl:1887.1%252Fitem:291264/full/350,/0/default.jpg\" />f034b-035a</p><img src=\"https://iiif.universiteitleiden.nl/iiif/2/hdl:1887.1%252Fitem:291264/full/350,/0/default.jpg\" /><br/><p><a target=\"_blank\" href=\"https://iiif.universiteitleiden.nl/iiif/2/hdl:1887.1%252Fitem:291299/full/350,/0/default.jpg\" />f035b-036a</p><img src=\"https://iiif.universiteitleiden.nl/iiif/2/hdl:1887.1%252Fitem:291299/full/350,/0/default.jpg\" /><br/><p><a target=\"_blank\" href=\"https://iiif.universiteitleiden.nl/iiif/2/hdl:1887.1%252Fitem:291288/full/350,/0/default.jpg\" />f036b-037a</p><img src=\"https://iiif.universiteitleiden.nl/iiif/2/hdl:1887.1%252Fitem:291288/full/350,/0/default.jpg\" /><br/><p><a target=\"_blank\" href=\"https://iiif.universiteitleiden.nl/iiif/2/hdl:1887.1%252Fitem:291375/full/350,/0/default.jpg\" />f037b-038a</p><img src=\"https://iiif.universiteitleiden.nl/iiif/2/hdl:1887.1%252Fitem:291375/full/350,/0/default.jpg\" /><br/><p><a target=\"_blank\" href=\"https://iiif.universiteitleiden.nl/iiif/2/hdl:1887.1%252Fitem:291383/full/350,/0/default.jpg\" />f038b-039a</p><img src=\"https://iiif.universiteitleiden.nl/iiif/2/hdl:1887.1%252Fitem:291383/full/350,/0/default.jpg\" /><br/><p><a target=\"_blank\" href=\"https://iiif.universiteitleiden.nl/iiif/2/hdl:1887.1%252Fitem:291297/full/350,/0/default.jpg\" />f039b-040a</p><img src=\"https://iiif.universiteitleiden.nl/iiif/2/hdl:1887.1%252Fitem:291297/full/350,/0/default.jpg\" /><br/><p><a target=\"_blank\" href=\"https://iiif.universiteitleiden.nl/iiif/2/hdl:1887.1%252Fitem:291277/full/350,/0/default.jpg\" />f040b-041a</p><img src=\"https://iiif.universiteitleiden.nl/iiif/2/hdl:1887.1%252Fitem:291277/full/350,/0/default.jpg\" /><br/><p><a target=\"_blank\" href=\"https://iiif.universiteitleiden.nl/iiif/2/hdl:1887.1%252Fitem:291287/full/350,/0/default.jpg\" />f041b-042a</p><img src=\"https://iiif.universiteitleiden.nl/iiif/2/hdl:1887.1%252Fitem:291287/full/350,/0/default.jpg\" /><br/><p><a target=\"_blank\" href=\"https://iiif.universiteitleiden.nl/iiif/2/hdl:1887.1%252Fitem:291354/full/350,/0/default.jpg\" />f042b-043a</p><img src=\"https://iiif.universiteitleiden.nl/iiif/2/hdl:1887.1%252Fitem:291354/full/350,/0/default.jpg\" /><br/><p><a target=\"_blank\" href=\"https://iiif.universiteitleiden.nl/iiif/2/hdl:1887.1%252Fitem:291350/full/350,/0/default.jpg\" />f043b-044a</p><img src=\"https://iiif.universiteitleiden.nl/iiif/2/hdl:1887.1%252Fitem:291350/full/350,/0/default.jpg\" /><br/><p><a target=\"_blank\" href=\"https://iiif.universiteitleiden.nl/iiif/2/hdl:1887.1%252Fitem:291349/full/350,/0/default.jpg\" />f044b-045a</p><img src=\"https://iiif.universiteitleiden.nl/iiif/2/hdl:1887.1%252Fitem:291349/full/350,/0/default.jpg\" /><br/><p><a target=\"_blank\" href=\"https://iiif.universiteitleiden.nl/iiif/2/hdl:1887.1%252Fitem:291301/full/350,/0/default.jpg\" />f045b-046a</p><img src=\"https://iiif.universiteitleiden.nl/iiif/2/hdl:1887.1%252Fitem:291301/full/350,/0/default.jpg\" /><br/><p><a target=\"_blank\" href=\"https://iiif.universiteitleiden.nl/iiif/2/hdl:1887.1%252Fitem:291330/full/350,/0/default.jpg\" />f046b-047a</p><img src=\"https://iiif.universiteitleiden.nl/iiif/2/hdl:1887.1%252Fitem:291330/full/350,/0/default.jpg\" /><br/><p><a target=\"_blank\" href=\"https://iiif.universiteitleiden.nl/iiif/2/hdl:1887.1%252Fitem:291369/full/350,/0/default.jpg\" />f047b-048a</p><img src=\"https://iiif.universiteitleiden.nl/iiif/2/hdl:1887.1%252Fitem:291369/full/350,/0/default.jpg\" /><br/><p><a target=\"_blank\" href=\"https://iiif.universiteitleiden.nl/iiif/2/hdl:1887.1%252Fitem:291368/full/350,/0/default.jpg\" />f048b-049a</p><img src=\"https://iiif.universiteitleiden.nl/iiif/2/hdl:1887.1%252Fitem:291368/full/350,/0/default.jpg\" /><br/><p><a target=\"_blank\" href=\"https://iiif.universiteitleiden.nl/iiif/2/hdl:1887.1%252Fitem:291308/full/350,/0/default.jpg\" />f049b-050a</p><img src=\"https://iiif.universiteitleiden.nl/iiif/2/hdl:1887.1%252Fitem:291308/full/350,/0/default.jpg\" /><br/><p><a target=\"_blank\" href=\"https://iiif.universiteitleiden.nl/iiif/2/hdl:1887.1%252Fitem:291311/full/350,/0/default.jpg\" />f050b-051a</p><img src=\"https://iiif.universiteitleiden.nl/iiif/2/hdl:1887.1%252Fitem:291311/full/350,/0/default.jpg\" /><br/><p><a target=\"_blank\" href=\"https://iiif.universiteitleiden.nl/iiif/2/hdl:1887.1%252Fitem:291313/full/350,/0/default.jpg\" />f051b-052a</p><img src=\"https://iiif.universiteitleiden.nl/iiif/2/hdl:1887.1%252Fitem:291313/full/350,/0/default.jpg\" /><br/><p><a target=\"_blank\" href=\"https://iiif.universiteitleiden.nl/iiif/2/hdl:1887.1%252Fitem:291343/full/350,/0/default.jpg\" />f052b-053a</p><img src=\"https://iiif.universiteitleiden.nl/iiif/2/hdl:1887.1%252Fitem:291343/full/350,/0/default.jpg\" /><br/><p><a target=\"_blank\" href=\"https://iiif.universiteitleiden.nl/iiif/2/hdl:1887.1%252Fitem:291272/full/350,/0/default.jpg\" />f053b-054a</p><img src=\"https://iiif.universiteitleiden.nl/iiif/2/hdl:1887.1%252Fitem:291272/full/350,/0/default.jpg\" /><br/><p><a target=\"_blank\" href=\"https://iiif.universiteitleiden.nl/iiif/2/hdl:1887.1%252Fitem:291325/full/350,/0/default.jpg\" />f054b-055a</p><img src=\"https://iiif.universiteitleiden.nl/iiif/2/hdl:1887.1%252Fitem:291325/full/350,/0/default.jpg\" /><br/><p><a target=\"_blank\" href=\"https://iiif.universiteitleiden.nl/iiif/2/hdl:1887.1%252Fitem:291364/full/350,/0/default.jpg\" />f055b-056a</p><img src=\"https://iiif.universiteitleiden.nl/iiif/2/hdl:1887.1%252Fitem:291364/full/350,/0/default.jpg\" /><br/><p><a target=\"_blank\" href=\"https://iiif.universiteitleiden.nl/iiif/2/hdl:1887.1%252Fitem:291346/full/350,/0/default.jpg\" />f056b-057a</p><img src=\"https://iiif.universiteitleiden.nl/iiif/2/hdl:1887.1%252Fitem:291346/full/350,/0/default.jpg\" /><br/><p><a target=\"_blank\" href=\"https://iiif.universiteitleiden.nl/iiif/2/hdl:1887.1%252Fitem:291360/full/350,/0/default.jpg\" />f057b-058a</p><img src=\"https://iiif.universiteitleiden.nl/iiif/2/hdl:1887.1%252Fitem:291360/full/350,/0/default.jpg\" /><br/><p><a target=\"_blank\" href=\"https://iiif.universiteitleiden.nl/iiif/2/hdl:1887.1%252Fitem:291296/full/350,/0/default.jpg\" />f058b-059a</p><img src=\"https://iiif.universiteitleiden.nl/iiif/2/hdl:1887.1%252Fitem:291296/full/350,/0/default.jpg\" /><br/><p><a target=\"_blank\" href=\"https://iiif.universiteitleiden.nl/iiif/2/hdl:1887.1%252Fitem:291270/full/350,/0/default.jpg\" />f059b-060a</p><img src=\"https://iiif.universiteitleiden.nl/iiif/2/hdl:1887.1%252Fitem:291270/full/350,/0/default.jpg\" /><br/><p><a target=\"_blank\" href=\"https://iiif.universiteitleiden.nl/iiif/2/hdl:1887.1%252Fitem:291318/full/350,/0/default.jpg\" />f060b-061a</p><img src=\"https://iiif.universiteitleiden.nl/iiif/2/hdl:1887.1%252Fitem:291318/full/350,/0/default.jpg\" /><br/><p><a target=\"_blank\" href=\"https://iiif.universiteitleiden.nl/iiif/2/hdl:1887.1%252Fitem:291339/full/350,/0/default.jpg\" />f061b-062a</p><img src=\"https://iiif.universiteitleiden.nl/iiif/2/hdl:1887.1%252Fitem:291339/full/350,/0/default.jpg\" /><br/><p><a target=\"_blank\" href=\"https://iiif.universiteitleiden.nl/iiif/2/hdl:1887.1%252Fitem:291284/full/350,/0/default.jpg\" />f062b-063a</p><img src=\"https://iiif.universiteitleiden.nl/iiif/2/hdl:1887.1%252Fitem:291284/full/350,/0/default.jpg\" /><br/><p><a target=\"_blank\" href=\"https://iiif.universiteitleiden.nl/iiif/2/hdl:1887.1%252Fitem:291329/full/350,/0/default.jpg\" />f063b-064a</p><img src=\"https://iiif.universiteitleiden.nl/iiif/2/hdl:1887.1%252Fitem:291329/full/350,/0/default.jpg\" /><br/><p><a target=\"_blank\" href=\"https://iiif.universiteitleiden.nl/iiif/2/hdl:1887.1%252Fitem:291363/full/350,/0/default.jpg\" />f064b-065a</p><img src=\"https://iiif.universiteitleiden.nl/iiif/2/hdl:1887.1%252Fitem:291363/full/350,/0/default.jpg\" /><br/><p><a target=\"_blank\" href=\"https://iiif.universiteitleiden.nl/iiif/2/hdl:1887.1%252Fitem:291271/full/350,/0/default.jpg\" />f065b-066a</p><img src=\"https://iiif.universiteitleiden.nl/iiif/2/hdl:1887.1%252Fitem:291271/full/350,/0/default.jpg\" /><br/><p><a target=\"_blank\" href=\"https://iiif.universiteitleiden.nl/iiif/2/hdl:1887.1%252Fitem:291340/full/350,/0/default.jpg\" />f066b-067a</p><img src=\"https://iiif.universiteitleiden.nl/iiif/2/hdl:1887.1%252Fitem:291340/full/350,/0/default.jpg\" /><br/><p><a target=\"_blank\" href=\"https://iiif.universiteitleiden.nl/iiif/2/hdl:1887.1%252Fitem:291333/full/350,/0/default.jpg\" />f067b-068a</p><img src=\"https://iiif.universiteitleiden.nl/iiif/2/hdl:1887.1%252Fitem:291333/full/350,/0/default.jpg\" /><br/><p><a target=\"_blank\" href=\"https://iiif.universiteitleiden.nl/iiif/2/hdl:1887.1%252Fitem:291373/full/350,/0/default.jpg\" />f068b-069a</p><img src=\"https://iiif.universiteitleiden.nl/iiif/2/hdl:1887.1%252Fitem:291373/full/350,/0/default.jpg\" /><br/><p><a target=\"_blank\" href=\"https://iiif.universiteitleiden.nl/iiif/2/hdl:1887.1%252Fitem:291268/full/350,/0/default.jpg\" />f069b-070a</p><img src=\"https://iiif.universiteitleiden.nl/iiif/2/hdl:1887.1%252Fitem:291268/full/350,/0/default.jpg\" /><br/><p><a target=\"_blank\" href=\"https://iiif.universiteitleiden.nl/iiif/2/hdl:1887.1%252Fitem:291302/full/350,/0/default.jpg\" />f070b-071a</p><img src=\"https://iiif.universiteitleiden.nl/iiif/2/hdl:1887.1%252Fitem:291302/full/350,/0/default.jpg\" /><br/><p><a target=\"_blank\" href=\"https://iiif.universiteitleiden.nl/iiif/2/hdl:1887.1%252Fitem:291336/full/350,/0/default.jpg\" />f071b-072a</p><img src=\"https://iiif.universiteitleiden.nl/iiif/2/hdl:1887.1%252Fitem:291336/full/350,/0/default.jpg\" /><br/><p><a target=\"_blank\" href=\"https://iiif.universiteitleiden.nl/iiif/2/hdl:1887.1%252Fitem:291337/full/350,/0/default.jpg\" />f072b-073a</p><img src=\"https://iiif.universiteitleiden.nl/iiif/2/hdl:1887.1%252Fitem:291337/full/350,/0/default.jpg\" /><br/><p><a target=\"_blank\" href=\"https://iiif.universiteitleiden.nl/iiif/2/hdl:1887.1%252Fitem:291300/full/350,/0/default.jpg\" />f073b-074a</p><img src=\"https://iiif.universiteitleiden.nl/iiif/2/hdl:1887.1%252Fitem:291300/full/350,/0/default.jpg\" /><br/><p><a target=\"_blank\" href=\"https://iiif.universiteitleiden.nl/iiif/2/hdl:1887.1%252Fitem:291382/full/350,/0/default.jpg\" />f074b-075a</p><img src=\"https://iiif.universiteitleiden.nl/iiif/2/hdl:1887.1%252Fitem:291382/full/350,/0/default.jpg\" /><br/><p><a target=\"_blank\" href=\"https://iiif.universiteitleiden.nl/iiif/2/hdl:1887.1%252Fitem:291374/full/350,/0/default.jpg\" />f075b-076a</p><img src=\"https://iiif.universiteitleiden.nl/iiif/2/hdl:1887.1%252Fitem:291374/full/350,/0/default.jpg\" /><br/><p><a target=\"_blank\" href=\"https://iiif.universiteitleiden.nl/iiif/2/hdl:1887.1%252Fitem:291327/full/350,/0/default.jpg\" />f076b-077a</p><img src=\"https://iiif.universiteitleiden.nl/iiif/2/hdl:1887.1%252Fitem:291327/full/350,/0/default.jpg\" /><br/><p><a target=\"_blank\" href=\"https://iiif.universiteitleiden.nl/iiif/2/hdl:1887.1%252Fitem:291379/full/350,/0/default.jpg\" />f077b-078a</p><img src=\"https://iiif.universiteitleiden.nl/iiif/2/hdl:1887.1%252Fitem:291379/full/350,/0/default.jpg\" /><br/><p><a target=\"_blank\" href=\"https://iiif.universiteitleiden.nl/iiif/2/hdl:1887.1%252Fitem:291376/full/350,/0/default.jpg\" />f078b-079a</p><img src=\"https://iiif.universiteitleiden.nl/iiif/2/hdl:1887.1%252Fitem:291376/full/350,/0/default.jpg\" /><br/><p><a target=\"_blank\" href=\"https://iiif.universiteitleiden.nl/iiif/2/hdl:1887.1%252Fitem:291298/full/350,/0/default.jpg\" />f079b-080a</p><img src=\"https://iiif.universiteitleiden.nl/iiif/2/hdl:1887.1%252Fitem:291298/full/350,/0/default.jpg\" /><br/><p><a target=\"_blank\" href=\"https://iiif.universiteitleiden.nl/iiif/2/hdl:1887.1%252Fitem:291285/full/350,/0/default.jpg\" />f080b-081a</p><img src=\"https://iiif.universiteitleiden.nl/iiif/2/hdl:1887.1%252Fitem:291285/full/350,/0/default.jpg\" /><br/><p><a target=\"_blank\" href=\"https://iiif.universiteitleiden.nl/iiif/2/hdl:1887.1%252Fitem:291306/full/350,/0/default.jpg\" />f081b-082a</p><img src=\"https://iiif.universiteitleiden.nl/iiif/2/hdl:1887.1%252Fitem:291306/full/350,/0/default.jpg\" /><br/><p><a target=\"_blank\" href=\"https://iiif.universiteitleiden.nl/iiif/2/hdl:1887.1%252Fitem:291280/full/350,/0/default.jpg\" />f082b-083a</p><img src=\"https://iiif.universiteitleiden.nl/iiif/2/hdl:1887.1%252Fitem:291280/full/350,/0/default.jpg\" /><br/><p><a target=\"_blank\" href=\"https://iiif.universiteitleiden.nl/iiif/2/hdl:1887.1%252Fitem:291345/full/350,/0/default.jpg\" />f083b-084a</p><img src=\"https://iiif.universiteitleiden.nl/iiif/2/hdl:1887.1%252Fitem:291345/full/350,/0/default.jpg\" /><br/><p><a target=\"_blank\" href=\"https://iiif.universiteitleiden.nl/iiif/2/hdl:1887.1%252Fitem:291335/full/350,/0/default.jpg\" />f084b-085a</p><img src=\"https://iiif.universiteitleiden.nl/iiif/2/hdl:1887.1%252Fitem:291335/full/350,/0/default.jpg\" /><br/><p><a target=\"_blank\" href=\"https://iiif.universiteitleiden.nl/iiif/2/hdl:1887.1%252Fitem:291332/full/350,/0/default.jpg\" />f085b-086a</p><img src=\"https://iiif.universiteitleiden.nl/iiif/2/hdl:1887.1%252Fitem:291332/full/350,/0/default.jpg\" /><br/><p><a target=\"_blank\" href=\"https://iiif.universiteitleiden.nl/iiif/2/hdl:1887.1%252Fitem:291372/full/350,/0/default.jpg\" />f086b-087a</p><img src=\"https://iiif.universiteitleiden.nl/iiif/2/hdl:1887.1%252Fitem:291372/full/350,/0/default.jpg\" /><br/><p><a target=\"_blank\" href=\"https://iiif.universiteitleiden.nl/iiif/2/hdl:1887.1%252Fitem:291315/full/350,/0/default.jpg\" />f087b-088a</p><img src=\"https://iiif.universiteitleiden.nl/iiif/2/hdl:1887.1%252Fitem:291315/full/350,/0/default.jpg\" /><br/><p><a target=\"_blank\" href=\"https://iiif.universiteitleiden.nl/iiif/2/hdl:1887.1%252Fitem:291319/full/350,/0/default.jpg\" />f088b-089a</p><img src=\"https://iiif.universiteitleiden.nl/iiif/2/hdl:1887.1%252Fitem:291319/full/350,/0/default.jpg\" /><br/><p><a target=\"_blank\" href=\"https://iiif.universiteitleiden.nl/iiif/2/hdl:1887.1%252Fitem:291322/full/350,/0/default.jpg\" />f089b-090a</p><img src=\"https://iiif.universiteitleiden.nl/iiif/2/hdl:1887.1%252Fitem:291322/full/350,/0/default.jpg\" /><br/><p><a target=\"_blank\" href=\"https://iiif.universiteitleiden.nl/iiif/2/hdl:1887.1%252Fitem:291290/full/350,/0/default.jpg\" />f090b-091a</p><img src=\"https://iiif.universiteitleiden.nl/iiif/2/hdl:1887.1%252Fitem:291290/full/350,/0/default.jpg\" /><br/><p><a target=\"_blank\" href=\"https://iiif.universiteitleiden.nl/iiif/2/hdl:1887.1%252Fitem:291320/full/350,/0/default.jpg\" />f091b-092a</p><img src=\"https://iiif.universiteitleiden.nl/iiif/2/hdl:1887.1%252Fitem:291320/full/350,/0/default.jpg\" /><br/><p><a target=\"_blank\" href=\"https://iiif.universiteitleiden.nl/iiif/2/hdl:1887.1%252Fitem:291278/full/350,/0/default.jpg\" />f092b-093a</p><img src=\"https://iiif.universiteitleiden.nl/iiif/2/hdl:1887.1%252Fitem:291278/full/350,/0/default.jpg\" /><br/><p><a target=\"_blank\" href=\"https://iiif.universiteitleiden.nl/iiif/2/hdl:1887.1%252Fitem:291309/full/350,/0/default.jpg\" />f093b-094a</p><img src=\"https://iiif.universiteitleiden.nl/iiif/2/hdl:1887.1%252Fitem:291309/full/350,/0/default.jpg\" /><br/><p><a target=\"_blank\" href=\"https://iiif.universiteitleiden.nl/iiif/2/hdl:1887.1%252Fitem:291326/full/350,/0/default.jpg\" />f094b-095a</p><img src=\"https://iiif.universiteitleiden.nl/iiif/2/hdl:1887.1%252Fitem:291326/full/350,/0/default.jpg\" /><br/><p><a target=\"_blank\" href=\"https://iiif.universiteitleiden.nl/iiif/2/hdl:1887.1%252Fitem:291328/full/350,/0/default.jpg\" />f095b-096a</p><img src=\"https://iiif.universiteitleiden.nl/iiif/2/hdl:1887.1%252Fitem:291328/full/350,/0/default.jpg\" /><br/><p><a target=\"_blank\" href=\"https://iiif.universiteitleiden.nl/iiif/2/hdl:1887.1%252Fitem:291295/full/350,/0/default.jpg\" />f096b-097a</p><img src=\"https://iiif.universiteitleiden.nl/iiif/2/hdl:1887.1%252Fitem:291295/full/350,/0/default.jpg\" /><br/><p><a target=\"_blank\" href=\"https://iiif.universiteitleiden.nl/iiif/2/hdl:1887.1%252Fitem:291310/full/350,/0/default.jpg\" />f097b-098a</p><img src=\"https://iiif.universiteitleiden.nl/iiif/2/hdl:1887.1%252Fitem:291310/full/350,/0/default.jpg\" /><br/><p><a target=\"_blank\" href=\"https://iiif.universiteitleiden.nl/iiif/2/hdl:1887.1%252Fitem:291357/full/350,/0/default.jpg\" />f098b-099a</p><img src=\"https://iiif.universiteitleiden.nl/iiif/2/hdl:1887.1%252Fitem:291357/full/350,/0/default.jpg\" /><br/><p><a target=\"_blank\" href=\"https://iiif.universiteitleiden.nl/iiif/2/hdl:1887.1%252Fitem:291282/full/350,/0/default.jpg\" />f099b-100a</p><img src=\"https://iiif.universiteitleiden.nl/iiif/2/hdl:1887.1%252Fitem:291282/full/350,/0/default.jpg\" /><br/><p><a target=\"_blank\" href=\"https://iiif.universiteitleiden.nl/iiif/2/hdl:1887.1%252Fitem:291377/full/350,/0/default.jpg\" />f100b-101a</p><img src=\"https://iiif.universiteitleiden.nl/iiif/2/hdl:1887.1%252Fitem:291377/full/350,/0/default.jpg\" /><br/><p><a target=\"_blank\" href=\"https://iiif.universiteitleiden.nl/iiif/2/hdl:1887.1%252Fitem:291342/full/350,/0/default.jpg\" />f101b-102a</p><img src=\"https://iiif.universiteitleiden.nl/iiif/2/hdl:1887.1%252Fitem:291342/full/350,/0/default.jpg\" /><br/><p><a target=\"_blank\" href=\"https://iiif.universiteitleiden.nl/iiif/2/hdl:1887.1%252Fitem:291367/full/350,/0/default.jpg\" />f102b-103a</p><img src=\"https://iiif.universiteitleiden.nl/iiif/2/hdl:1887.1%252Fitem:291367/full/350,/0/default.jpg\" /><br/><p><a target=\"_blank\" href=\"https://iiif.universiteitleiden.nl/iiif/2/hdl:1887.1%252Fitem:291355/full/350,/0/default.jpg\" />f103b-104a</p><img src=\"https://iiif.universiteitleiden.nl/iiif/2/hdl:1887.1%252Fitem:291355/full/350,/0/default.jpg\" /><br/><p><a target=\"_blank\" href=\"https://iiif.universiteitleiden.nl/iiif/2/hdl:1887.1%252Fitem:291274/full/350,/0/default.jpg\" />f104b-105a</p><img src=\"https://iiif.universiteitleiden.nl/iiif/2/hdl:1887.1%252Fitem:291274/full/350,/0/default.jpg\" /><br/><p><a target=\"_blank\" href=\"https://iiif.universiteitleiden.nl/iiif/2/hdl:1887.1%252Fitem:291384/full/350,/0/default.jpg\" />f105b-106a</p><img src=\"https://iiif.universiteitleiden.nl/iiif/2/hdl:1887.1%252Fitem:291384/full/350,/0/default.jpg\" /><br/><p><a target=\"_blank\" href=\"https://iiif.universiteitleiden.nl/iiif/2/hdl:1887.1%252Fitem:291292/full/350,/0/default.jpg\" />f106b-107a</p><img src=\"https://iiif.universiteitleiden.nl/iiif/2/hdl:1887.1%252Fitem:291292/full/350,/0/default.jpg\" /><br/><p><a target=\"_blank\" href=\"https://iiif.universiteitleiden.nl/iiif/2/hdl:1887.1%252Fitem:291305/full/350,/0/default.jpg\" />f107b-108a</p><img src=\"https://iiif.universiteitleiden.nl/iiif/2/hdl:1887.1%252Fitem:291305/full/350,/0/default.jpg\" /><br/><p><a target=\"_blank\" href=\"https://iiif.universiteitleiden.nl/iiif/2/hdl:1887.1%252Fitem:291276/full/350,/0/default.jpg\" />f108b-109a</p><img src=\"https://iiif.universiteitleiden.nl/iiif/2/hdl:1887.1%252Fitem:291276/full/350,/0/default.jpg\" /><br/><p><a target=\"_blank\" href=\"https://iiif.universiteitleiden.nl/iiif/2/hdl:1887.1%252Fitem:291365/full/350,/0/default.jpg\" />f109b-110a</p><img src=\"https://iiif.universiteitleiden.nl/iiif/2/hdl:1887.1%252Fitem:291365/full/350,/0/default.jpg\" /><br/><p><a target=\"_blank\" href=\"https://iiif.universiteitleiden.nl/iiif/2/hdl:1887.1%252Fitem:291293/full/350,/0/default.jpg\" />f110b-111a</p><img src=\"https://iiif.universiteitleiden.nl/iiif/2/hdl:1887.1%252Fitem:291293/full/350,/0/default.jpg\" /><br/><p><a target=\"_blank\" href=\"https://iiif.universiteitleiden.nl/iiif/2/hdl:1887.1%252Fitem:291281/full/350,/0/default.jpg\" />f111b-112a</p><img src=\"https://iiif.universiteitleiden.nl/iiif/2/hdl:1887.1%252Fitem:291281/full/350,/0/default.jpg\" /><br/><p><a target=\"_blank\" href=\"https://iiif.universiteitleiden.nl/iiif/2/hdl:1887.1%252Fitem:291359/full/350,/0/default.jpg\" />f112b-113a</p><img src=\"https://iiif.universiteitleiden.nl/iiif/2/hdl:1887.1%252Fitem:291359/full/350,/0/default.jpg\" /><br/><p><a target=\"_blank\" href=\"https://iiif.universiteitleiden.nl/iiif/2/hdl:1887.1%252Fitem:291362/full/350,/0/default.jpg\" />f113b-114a</p><img src=\"https://iiif.universiteitleiden.nl/iiif/2/hdl:1887.1%252Fitem:291362/full/350,/0/default.jpg\" /><br/>\" />"
      ],
      "text/plain": [
       "<IPython.core.display.HTML object>"
      ]
     },
     "execution_count": 5,
     "metadata": {},
     "output_type": "execute_result"
    }
   ],
   "source": [
    "import json\n",
    "import requests\n",
    "from IPython.core.display import HTML\n",
    "import re\n",
    "\n",
    "iiif_manifest = 'https://digitalcollections.universiteitleiden.nl/iiif_manifest/item%3A291263/manifest'\n",
    "\n",
    "\n",
    "response = requests.get(iiif_manifest)\n",
    "\n",
    "html = ''\n",
    "\n",
    "if response:\n",
    "    json_data = response.json()\n",
    "\n",
    "    seq = json_data['sequences']\n",
    "    canvas = seq[0]['canvases']\n",
    "\n",
    "    for c in canvas:\n",
    "\n",
    "        label = c['label']\n",
    "        image = c['images']\n",
    "\n",
    "        img_url = image[0]['resource']['@id']\n",
    "        \n",
    "        url_parts = re.split('/',img_url)\n",
    "        url_parts[-3] = '350,'\n",
    "        img_url = '/'.join(url_parts) \n",
    "        html += f'<p><a target=\"_blank\" href=\"{img_url}\" />{label}</p>'\n",
    "        html += f'<img src=\"{img_url}\" /><br/>'\n",
    "\n",
    "HTML( f'<img src=\"{html}\" />')\n",
    "        \n"
   ]
  },
  {
   "cell_type": "code",
   "execution_count": null,
   "id": "4c112277",
   "metadata": {},
   "outputs": [],
   "source": []
  }
 ],
 "metadata": {
  "kernelspec": {
   "display_name": "Python 3 (ipykernel)",
   "language": "python",
   "name": "python3"
  },
  "language_info": {
   "codemirror_mode": {
    "name": "ipython",
    "version": 3
   },
   "file_extension": ".py",
   "mimetype": "text/x-python",
   "name": "python",
   "nbconvert_exporter": "python",
   "pygments_lexer": "ipython3",
   "version": "3.7.9"
  }
 },
 "nbformat": 4,
 "nbformat_minor": 5
}
